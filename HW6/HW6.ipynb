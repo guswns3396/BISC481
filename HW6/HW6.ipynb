{
 "cells": [
  {
   "cell_type": "markdown",
   "metadata": {},
   "source": [
    "# Hyun-Joon Yang\n",
    "# yanghyun@usc.edu\n",
    "# BISC 481\n",
    "# HW6"
   ]
  },
  {
   "cell_type": "markdown",
   "metadata": {},
   "source": [
    "## 1)\tDescribe two major types of protein-protein interactions, give examples for each one. What defines affinity and selectivity in each type of interaction? (10 pts) "
   ]
  },
  {
   "cell_type": "markdown",
   "metadata": {},
   "source": [
    "* Binding interface of 2 proteins\n",
    "    * Binding of subunits of hemoglobin\n",
    "    * Affinity is driven by the size of the interface whereas selectivity is driven by polar interactions of residues\n",
    "* Recognition of peptide by domain\n",
    "    * SH2 peptide binding to phosphorylated tyrosine\n",
    "    * Affinity is driven by the charges of the peptide whereas selectivity is driven by a combination of domains"
   ]
  },
  {
   "cell_type": "markdown",
   "metadata": {},
   "source": [
    "## 2) Give definitions for scale-free and random interaction networks, and formulas for connection number distributions.   What is the key difference between the two types of networks? Which type better represents the protein interaction networks in cells? (15 pts)   "
   ]
  },
  {
   "cell_type": "markdown",
   "metadata": {},
   "source": [
    "* scale-free network\n",
    "    * definition: network characterized by power-law degree distribution\n",
    "    * formula: $P(k) = ck^{-\\gamma}$\n",
    "* random interaction network\n",
    "    * definition: network characterized by Poisson distribution\n",
    "    * formula: $P(k) = \\frac{\\lambda^ke^{-\\lambda}}{k!}$\n",
    "    \n",
    "The distribution is different in the 2 networks. Scale-free networks represent protein interaction networks better."
   ]
  },
  {
   "cell_type": "markdown",
   "metadata": {},
   "source": [
    "## 3) Why “bound” docking, when both ligand and receptor are taken from the same crystal structure is not a fair benchmark for docking methods? What has to be taken into account in actual docking procedures? (10 pts)  "
   ]
  },
  {
   "cell_type": "markdown",
   "metadata": {},
   "source": [
    "Bound docking makes predictions based on template of known complexes which make it easier. In actual docking procedures, ligands and receptor data should come from unbound molecules which have no known templates."
   ]
  },
  {
   "cell_type": "markdown",
   "metadata": {},
   "source": [
    "## 4) Define FTT approach in rigid protein-protein docking, what is the main advantage of FTT approach? What is the estimated scaling of the FTT docking problem with the standard methods? What can be achieved by combining translational and rotational coordinates into 5D manifolds? (10 pts)   "
   ]
  },
  {
   "cell_type": "markdown",
   "metadata": {},
   "source": [
    "* FFT is an approach based on simplified representation of receptor and ligand in which values are assigned to each cell and scores are calculated for all rotations and translations. The main advantage is that it is computationally fast.\n",
    "* O($N^3logN^3$) compared with O($N^6$) when energy evaluations are performed directly.\n",
    "* Fourier transformation can be done on all coordinates, speeding up the computation."
   ]
  },
  {
   "cell_type": "markdown",
   "metadata": {},
   "source": [
    "## 5) What are the 5 main classes of membrane-associated proteins? How the properties of integral membrane proteins differ from soluble protein domains? How one of these properties can be used in predicting rough transmembrane topology of the protein (15 pts)"
   ]
  },
  {
   "cell_type": "markdown",
   "metadata": {},
   "source": [
    "* main classes\n",
    "    * a protein whose polypeptide chain traverses the membrane once as an alpha helix\n",
    "    * a protein that forms several transmembrane alpha helices connected by hydrophilic loop regions\n",
    "    * protein with several beta strands that forms a channel through the membrane\n",
    "    * peripheral membrane protein that is anchored to the membrane by one alpha helix that is parallel to the plane of the membrane and interacts with it\n",
    "    * a peripheral membrane protein that is covalently linked to a lipid\n",
    "* the hydrophobic core is on the outside for integral membrane proteins to interact with the lipid layer\n",
    "* hydrophobicity along the sequence can be measured to predict topology of the protein"
   ]
  },
  {
   "cell_type": "markdown",
   "metadata": {},
   "source": [
    "## 6) What is the key application of microbial channelrhodopsins in studies of animal and human biology? What functional properties of channelrhodopsins can be engineered to expand these applications  (10 pts)  "
   ]
  },
  {
   "cell_type": "markdown",
   "metadata": {},
   "source": [
    "Channelrhodopsins allow certain ligands through the membrane when activated by light. This can be exploited to study neural circuitry of animals as well as be applied to engineer the neural system as seen in optogenetics."
   ]
  },
  {
   "cell_type": "markdown",
   "metadata": {},
   "source": [
    "## 7) How many transmembrane helices are in GPCRs?  What are the main functional sites present in most GPCRs? Which cation specifically impacts the function of most GPCRs and why? (10 pts)"
   ]
  },
  {
   "cell_type": "markdown",
   "metadata": {},
   "source": [
    "* 7 transmembrane helices\n",
    "* Na+ pocket and receptor site are conserved in most GPCRs\n",
    "* Na+ impacts most GPCRs since it plays a role in activation of the protein as it sits in the allosteric sodium pocket"
   ]
  },
  {
   "cell_type": "markdown",
   "metadata": {},
   "source": [
    "## 8) What key technology breakthroughs made possible high-resolution cryo-EM? Describe the key steps in solving the protein structure form cryo-EM data? What are protein size limitations for cryo-EM? (10 pts)"
   ]
  },
  {
   "cell_type": "markdown",
   "metadata": {},
   "source": [
    "* breakthroughs\n",
    "    * Dubochet's vitrification method\n",
    "    * Frank's image analysis\n",
    "    * availability of direct electron detectors, improvements in motion correction, 3D reconstruction, and resolution\n",
    "* key steps\n",
    "    * start with template structure\n",
    "    * calculate projections\n",
    "    * compare to raw images\n",
    "    * classify into groups\n",
    "    * align images & average them\n",
    "    * reconstruct 3D image based on orientation\n",
    "* size limitation: difficult for proteins lower than 100 kiloDaltons"
   ]
  },
  {
   "cell_type": "markdown",
   "metadata": {},
   "source": [
    "## 9) What are the main principles of hybrid/integrative modeling? What types of data are used for integrative modeling? (10 pts)"
   ]
  },
  {
   "cell_type": "markdown",
   "metadata": {},
   "source": [
    "* Hybrid / integrative modeling combines different resolution and information from various methods to model the structure.\n",
    "* Data: X-ray crystallography, NMR, electron microscopy, small angle x-ray scattering, cross-linking, HDXMS, proteomics, co-purification, physics, etc"
   ]
  }
 ],
 "metadata": {
  "kernelspec": {
   "display_name": "Python 3",
   "language": "python",
   "name": "python3"
  },
  "language_info": {
   "codemirror_mode": {
    "name": "ipython",
    "version": 3
   },
   "file_extension": ".py",
   "mimetype": "text/x-python",
   "name": "python",
   "nbconvert_exporter": "python",
   "pygments_lexer": "ipython3",
   "version": "3.8.5"
  }
 },
 "nbformat": 4,
 "nbformat_minor": 4
}
